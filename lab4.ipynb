{
 "cells": [
  {
   "cell_type": "code",
   "execution_count": 1,
   "id": "initial_id",
   "metadata": {
    "ExecuteTime": {
     "end_time": "2025-01-09T02:20:54.131346Z",
     "start_time": "2025-01-09T02:20:53.921806Z"
    },
    "collapsed": true,
    "editable": true,
    "jupyter": {
     "outputs_hidden": true
    },
    "slideshow": {
     "slide_type": ""
    },
    "tags": []
   },
   "outputs": [],
   "source": [
    "#Imports\n",
    "import pandas as pd\n",
    "import matplotlib.pyplot as plt\n",
    "import seaborn as sns\n",
    "from sklearn.preprocessing import LabelEncoder\n",
    "from sklearn.model_selection import train_test_split\n",
    "from sklearn.naive_bayes import GaussianNB\n",
    "from sklearn.preprocessing import MinMaxScaler\n",
    "from sklearn.naive_bayes import MultinomialNB\n",
    "from sklearn.preprocessing import Binarizer\n",
    "from sklearn.naive_bayes import BernoulliNB\n",
    "from sklearn.metrics import confusion_matrix, classification_report\n",
    "from sklearn import tree\n",
    "from sklearn."
   ]
  },
  {
   "cell_type": "code",
   "execution_count": 2,
   "id": "51786963bbdf723",
   "metadata": {
    "ExecuteTime": {
     "end_time": "2025-01-09T02:20:54.183182Z",
     "start_time": "2025-01-09T02:20:54.152880Z"
    }
   },
   "outputs": [
    {
     "data": {
      "text/html": [
       "<div>\n",
       "<style scoped>\n",
       "    .dataframe tbody tr th:only-of-type {\n",
       "        vertical-align: middle;\n",
       "    }\n",
       "\n",
       "    .dataframe tbody tr th {\n",
       "        vertical-align: top;\n",
       "    }\n",
       "\n",
       "    .dataframe thead th {\n",
       "        text-align: right;\n",
       "    }\n",
       "</style>\n",
       "<table border=\"1\" class=\"dataframe\">\n",
       "  <thead>\n",
       "    <tr style=\"text-align: right;\">\n",
       "      <th></th>\n",
       "      <th>long_hair</th>\n",
       "      <th>forehead_width_cm</th>\n",
       "      <th>forehead_height_cm</th>\n",
       "      <th>nose_wide</th>\n",
       "      <th>nose_long</th>\n",
       "      <th>lips_thin</th>\n",
       "      <th>distance_nose_to_lip_long</th>\n",
       "      <th>gender</th>\n",
       "    </tr>\n",
       "  </thead>\n",
       "  <tbody>\n",
       "    <tr>\n",
       "      <th>0</th>\n",
       "      <td>1</td>\n",
       "      <td>11.8</td>\n",
       "      <td>6.1</td>\n",
       "      <td>1</td>\n",
       "      <td>0</td>\n",
       "      <td>1</td>\n",
       "      <td>1</td>\n",
       "      <td>Male</td>\n",
       "    </tr>\n",
       "    <tr>\n",
       "      <th>1</th>\n",
       "      <td>0</td>\n",
       "      <td>14.0</td>\n",
       "      <td>5.4</td>\n",
       "      <td>0</td>\n",
       "      <td>0</td>\n",
       "      <td>1</td>\n",
       "      <td>0</td>\n",
       "      <td>Female</td>\n",
       "    </tr>\n",
       "    <tr>\n",
       "      <th>2</th>\n",
       "      <td>0</td>\n",
       "      <td>11.8</td>\n",
       "      <td>6.3</td>\n",
       "      <td>1</td>\n",
       "      <td>1</td>\n",
       "      <td>1</td>\n",
       "      <td>1</td>\n",
       "      <td>Male</td>\n",
       "    </tr>\n",
       "    <tr>\n",
       "      <th>3</th>\n",
       "      <td>0</td>\n",
       "      <td>14.4</td>\n",
       "      <td>6.1</td>\n",
       "      <td>0</td>\n",
       "      <td>1</td>\n",
       "      <td>1</td>\n",
       "      <td>1</td>\n",
       "      <td>Male</td>\n",
       "    </tr>\n",
       "    <tr>\n",
       "      <th>4</th>\n",
       "      <td>1</td>\n",
       "      <td>13.5</td>\n",
       "      <td>5.9</td>\n",
       "      <td>0</td>\n",
       "      <td>0</td>\n",
       "      <td>0</td>\n",
       "      <td>0</td>\n",
       "      <td>Female</td>\n",
       "    </tr>\n",
       "    <tr>\n",
       "      <th>...</th>\n",
       "      <td>...</td>\n",
       "      <td>...</td>\n",
       "      <td>...</td>\n",
       "      <td>...</td>\n",
       "      <td>...</td>\n",
       "      <td>...</td>\n",
       "      <td>...</td>\n",
       "      <td>...</td>\n",
       "    </tr>\n",
       "    <tr>\n",
       "      <th>4996</th>\n",
       "      <td>1</td>\n",
       "      <td>13.6</td>\n",
       "      <td>5.1</td>\n",
       "      <td>0</td>\n",
       "      <td>0</td>\n",
       "      <td>0</td>\n",
       "      <td>0</td>\n",
       "      <td>Female</td>\n",
       "    </tr>\n",
       "    <tr>\n",
       "      <th>4997</th>\n",
       "      <td>1</td>\n",
       "      <td>11.9</td>\n",
       "      <td>5.4</td>\n",
       "      <td>0</td>\n",
       "      <td>0</td>\n",
       "      <td>0</td>\n",
       "      <td>0</td>\n",
       "      <td>Female</td>\n",
       "    </tr>\n",
       "    <tr>\n",
       "      <th>4998</th>\n",
       "      <td>1</td>\n",
       "      <td>12.9</td>\n",
       "      <td>5.7</td>\n",
       "      <td>0</td>\n",
       "      <td>0</td>\n",
       "      <td>0</td>\n",
       "      <td>0</td>\n",
       "      <td>Female</td>\n",
       "    </tr>\n",
       "    <tr>\n",
       "      <th>4999</th>\n",
       "      <td>1</td>\n",
       "      <td>13.2</td>\n",
       "      <td>6.2</td>\n",
       "      <td>0</td>\n",
       "      <td>0</td>\n",
       "      <td>0</td>\n",
       "      <td>0</td>\n",
       "      <td>Female</td>\n",
       "    </tr>\n",
       "    <tr>\n",
       "      <th>5000</th>\n",
       "      <td>1</td>\n",
       "      <td>15.4</td>\n",
       "      <td>5.4</td>\n",
       "      <td>1</td>\n",
       "      <td>1</td>\n",
       "      <td>1</td>\n",
       "      <td>1</td>\n",
       "      <td>Male</td>\n",
       "    </tr>\n",
       "  </tbody>\n",
       "</table>\n",
       "<p>5001 rows × 8 columns</p>\n",
       "</div>"
      ],
      "text/plain": [
       "      long_hair  forehead_width_cm  forehead_height_cm  nose_wide  nose_long  \\\n",
       "0             1               11.8                 6.1          1          0   \n",
       "1             0               14.0                 5.4          0          0   \n",
       "2             0               11.8                 6.3          1          1   \n",
       "3             0               14.4                 6.1          0          1   \n",
       "4             1               13.5                 5.9          0          0   \n",
       "...         ...                ...                 ...        ...        ...   \n",
       "4996          1               13.6                 5.1          0          0   \n",
       "4997          1               11.9                 5.4          0          0   \n",
       "4998          1               12.9                 5.7          0          0   \n",
       "4999          1               13.2                 6.2          0          0   \n",
       "5000          1               15.4                 5.4          1          1   \n",
       "\n",
       "      lips_thin  distance_nose_to_lip_long  gender  \n",
       "0             1                          1    Male  \n",
       "1             1                          0  Female  \n",
       "2             1                          1    Male  \n",
       "3             1                          1    Male  \n",
       "4             0                          0  Female  \n",
       "...         ...                        ...     ...  \n",
       "4996          0                          0  Female  \n",
       "4997          0                          0  Female  \n",
       "4998          0                          0  Female  \n",
       "4999          0                          0  Female  \n",
       "5000          1                          1    Male  \n",
       "\n",
       "[5001 rows x 8 columns]"
      ]
     },
     "execution_count": 2,
     "metadata": {},
     "output_type": "execute_result"
    }
   ],
   "source": [
    "genclass = pd.read_csv(\"../datasets/gender_classification_v7.csv\")\n",
    "genclass"
   ]
  },
  {
   "cell_type": "code",
   "execution_count": 3,
   "id": "6711db1efa57c748",
   "metadata": {
    "ExecuteTime": {
     "end_time": "2025-01-09T02:20:54.483371Z",
     "start_time": "2025-01-09T02:20:54.466561Z"
    }
   },
   "outputs": [
    {
     "name": "stdout",
     "output_type": "stream",
     "text": [
      "<class 'pandas.core.frame.DataFrame'>\n",
      "RangeIndex: 5001 entries, 0 to 5000\n",
      "Data columns (total 8 columns):\n",
      " #   Column                     Non-Null Count  Dtype  \n",
      "---  ------                     --------------  -----  \n",
      " 0   long_hair                  5001 non-null   int64  \n",
      " 1   forehead_width_cm          5001 non-null   float64\n",
      " 2   forehead_height_cm         5001 non-null   float64\n",
      " 3   nose_wide                  5001 non-null   int64  \n",
      " 4   nose_long                  5001 non-null   int64  \n",
      " 5   lips_thin                  5001 non-null   int64  \n",
      " 6   distance_nose_to_lip_long  5001 non-null   int64  \n",
      " 7   gender                     5001 non-null   object \n",
      "dtypes: float64(2), int64(5), object(1)\n",
      "memory usage: 312.7+ KB\n"
     ]
    }
   ],
   "source": [
    "genclass.info()"
   ]
  },
  {
   "cell_type": "code",
   "execution_count": 4,
   "id": "58e1bafccc7aa02c",
   "metadata": {
    "ExecuteTime": {
     "end_time": "2025-01-09T02:20:54.565366Z",
     "start_time": "2025-01-09T02:20:54.559122Z"
    }
   },
   "outputs": [
    {
     "data": {
      "text/plain": [
       "long_hair                    0\n",
       "forehead_width_cm            0\n",
       "forehead_height_cm           0\n",
       "nose_wide                    0\n",
       "nose_long                    0\n",
       "lips_thin                    0\n",
       "distance_nose_to_lip_long    0\n",
       "gender                       0\n",
       "dtype: int64"
      ]
     },
     "execution_count": 4,
     "metadata": {},
     "output_type": "execute_result"
    }
   ],
   "source": [
    "genclass.isnull().sum()"
   ]
  },
  {
   "cell_type": "code",
   "execution_count": 5,
   "id": "bdb97f7d99956a47",
   "metadata": {
    "ExecuteTime": {
     "end_time": "2025-01-09T02:20:55.293087Z",
     "start_time": "2025-01-09T02:20:54.642953Z"
    },
    "editable": true,
    "slideshow": {
     "slide_type": ""
    },
    "tags": []
   },
   "outputs": [
    {
     "data": {
      "image/png": "[encoded data removed]",
      "text/plain": [
       "<Figure size 600x400 with 1 Axes>"
      ]
     },
     "metadata": {},
     "output_type": "display_data"
    },
    {
     "data": {
      "image/png": "[encoded data removed]",
      "text/plain": [
       "<Figure size 1500x1000 with 9 Axes>"
      ]
     },
     "metadata": {},
     "output_type": "display_data"
    },
    {
     "data": {
      "image/png": "[encoded data removed]",
      "text/plain": [
       "<Figure size 800x600 with 2 Axes>"
      ]
     },
     "metadata": {},
     "output_type": "display_data"
    },
    {
     "data": {
      "image/png": "[encoded data removed]",
      "text/plain": [
       "<Figure size 600x400 with 1 Axes>"
      ]
     },
     "metadata": {},
     "output_type": "display_data"
    }
   ],
   "source": [
    "#EDA\n",
    "\n",
    "# Step 1: Distribution of Target Variable (Gender)\n",
    "plt.figure(figsize=(6, 4))\n",
    "sns.countplot(x='gender', data=genclass)  # 'gender' is the target variable\n",
    "plt.title('Distribution of Gender')\n",
    "plt.show()\n",
    "\n",
    "# Step 2: Distribution of Features\n",
    "numerical_columns = ['long_hair', 'forehead_width_cm', 'forehead_height_cm',]\n",
    "\n",
    "# Create subplots for all numerical features\n",
    "genclass[numerical_columns].hist(bins=15, figsize=(15, 10), layout=(3, 3))\n",
    "plt.suptitle('Distribution of Numerical Features')\n",
    "plt.show()\n",
    "\n",
    "# Step 3: Correlation Heatmap\n",
    "correlation_matrix = genclass[numerical_columns].corr()\n",
    "\n",
    "plt.figure(figsize=(8, 6))\n",
    "sns.heatmap(correlation_matrix, annot=True, cmap='coolwarm', fmt='.2f', linewidths=0.5)\n",
    "plt.title('Correlation Heatmap of Numerical Features')\n",
    "plt.show()\n",
    "# Step 4: Visualizing relationships between features and the target\n",
    "\n",
    "plt.figure(figsize=(6, 4))\n",
    "sns.boxplot(x='gender', y='forehead_width_cm', data=genclass)\n",
    "plt.title(f'forehead_width_cm vs Gender')\n",
    "plt.show()\n",
    "\n",
    "\n"
   ]
  },
  {
   "cell_type": "code",
   "execution_count": 6,
   "id": "fc81929d23f2dbff",
   "metadata": {
    "ExecuteTime": {
     "end_time": "2025-01-09T02:20:55.347350Z",
     "start_time": "2025-01-09T02:20:55.325997Z"
    }
   },
   "outputs": [
    {
     "data": {
      "text/html": [
       "<div>\n",
       "<style scoped>\n",
       "    .dataframe tbody tr th:only-of-type {\n",
       "        vertical-align: middle;\n",
       "    }\n",
       "\n",
       "    .dataframe tbody tr th {\n",
       "        vertical-align: top;\n",
       "    }\n",
       "\n",
       "    .dataframe thead th {\n",
       "        text-align: right;\n",
       "    }\n",
       "</style>\n",
       "<table border=\"1\" class=\"dataframe\">\n",
       "  <thead>\n",
       "    <tr style=\"text-align: right;\">\n",
       "      <th></th>\n",
       "      <th>long_hair</th>\n",
       "      <th>forehead_width_cm</th>\n",
       "      <th>forehead_height_cm</th>\n",
       "      <th>nose_wide</th>\n",
       "      <th>nose_long</th>\n",
       "      <th>lips_thin</th>\n",
       "      <th>distance_nose_to_lip_long</th>\n",
       "    </tr>\n",
       "  </thead>\n",
       "  <tbody>\n",
       "    <tr>\n",
       "      <th>count</th>\n",
       "      <td>5001.000000</td>\n",
       "      <td>5001.000000</td>\n",
       "      <td>5001.000000</td>\n",
       "      <td>5001.000000</td>\n",
       "      <td>5001.000000</td>\n",
       "      <td>5001.000000</td>\n",
       "      <td>5001.000000</td>\n",
       "    </tr>\n",
       "    <tr>\n",
       "      <th>mean</th>\n",
       "      <td>0.869626</td>\n",
       "      <td>13.181484</td>\n",
       "      <td>5.946311</td>\n",
       "      <td>0.493901</td>\n",
       "      <td>0.507898</td>\n",
       "      <td>0.493101</td>\n",
       "      <td>0.498900</td>\n",
       "    </tr>\n",
       "    <tr>\n",
       "      <th>std</th>\n",
       "      <td>0.336748</td>\n",
       "      <td>1.107128</td>\n",
       "      <td>0.541268</td>\n",
       "      <td>0.500013</td>\n",
       "      <td>0.499988</td>\n",
       "      <td>0.500002</td>\n",
       "      <td>0.500049</td>\n",
       "    </tr>\n",
       "    <tr>\n",
       "      <th>min</th>\n",
       "      <td>0.000000</td>\n",
       "      <td>11.400000</td>\n",
       "      <td>5.100000</td>\n",
       "      <td>0.000000</td>\n",
       "      <td>0.000000</td>\n",
       "      <td>0.000000</td>\n",
       "      <td>0.000000</td>\n",
       "    </tr>\n",
       "    <tr>\n",
       "      <th>25%</th>\n",
       "      <td>1.000000</td>\n",
       "      <td>12.200000</td>\n",
       "      <td>5.500000</td>\n",
       "      <td>0.000000</td>\n",
       "      <td>0.000000</td>\n",
       "      <td>0.000000</td>\n",
       "      <td>0.000000</td>\n",
       "    </tr>\n",
       "    <tr>\n",
       "      <th>50%</th>\n",
       "      <td>1.000000</td>\n",
       "      <td>13.100000</td>\n",
       "      <td>5.900000</td>\n",
       "      <td>0.000000</td>\n",
       "      <td>1.000000</td>\n",
       "      <td>0.000000</td>\n",
       "      <td>0.000000</td>\n",
       "    </tr>\n",
       "    <tr>\n",
       "      <th>75%</th>\n",
       "      <td>1.000000</td>\n",
       "      <td>14.000000</td>\n",
       "      <td>6.400000</td>\n",
       "      <td>1.000000</td>\n",
       "      <td>1.000000</td>\n",
       "      <td>1.000000</td>\n",
       "      <td>1.000000</td>\n",
       "    </tr>\n",
       "    <tr>\n",
       "      <th>max</th>\n",
       "      <td>1.000000</td>\n",
       "      <td>15.500000</td>\n",
       "      <td>7.100000</td>\n",
       "      <td>1.000000</td>\n",
       "      <td>1.000000</td>\n",
       "      <td>1.000000</td>\n",
       "      <td>1.000000</td>\n",
       "    </tr>\n",
       "  </tbody>\n",
       "</table>\n",
       "</div>"
      ],
      "text/plain": [
       "         long_hair  forehead_width_cm  forehead_height_cm    nose_wide  \\\n",
       "count  5001.000000        5001.000000         5001.000000  5001.000000   \n",
       "mean      0.869626          13.181484            5.946311     0.493901   \n",
       "std       0.336748           1.107128            0.541268     0.500013   \n",
       "min       0.000000          11.400000            5.100000     0.000000   \n",
       "25%       1.000000          12.200000            5.500000     0.000000   \n",
       "50%       1.000000          13.100000            5.900000     0.000000   \n",
       "75%       1.000000          14.000000            6.400000     1.000000   \n",
       "max       1.000000          15.500000            7.100000     1.000000   \n",
       "\n",
       "         nose_long    lips_thin  distance_nose_to_lip_long  \n",
       "count  5001.000000  5001.000000                5001.000000  \n",
       "mean      0.507898     0.493101                   0.498900  \n",
       "std       0.499988     0.500002                   0.500049  \n",
       "min       0.000000     0.000000                   0.000000  \n",
       "25%       0.000000     0.000000                   0.000000  \n",
       "50%       1.000000     0.000000                   0.000000  \n",
       "75%       1.000000     1.000000                   1.000000  \n",
       "max       1.000000     1.000000                   1.000000  "
      ]
     },
     "execution_count": 6,
     "metadata": {},
     "output_type": "execute_result"
    }
   ],
   "source": [
    "genclass.describe()"
   ]
  },
  {
   "cell_type": "code",
   "execution_count": 7,
   "id": "11904abab0fd42d3",
   "metadata": {
    "ExecuteTime": {
     "end_time": "2025-01-09T02:20:55.464448Z",
     "start_time": "2025-01-09T02:20:55.454616Z"
    }
   },
   "outputs": [
    {
     "data": {
      "text/html": [
       "<div>\n",
       "<style scoped>\n",
       "    .dataframe tbody tr th:only-of-type {\n",
       "        vertical-align: middle;\n",
       "    }\n",
       "\n",
       "    .dataframe tbody tr th {\n",
       "        vertical-align: top;\n",
       "    }\n",
       "\n",
       "    .dataframe thead th {\n",
       "        text-align: right;\n",
       "    }\n",
       "</style>\n",
       "<table border=\"1\" class=\"dataframe\">\n",
       "  <thead>\n",
       "    <tr style=\"text-align: right;\">\n",
       "      <th></th>\n",
       "      <th>long_hair</th>\n",
       "      <th>forehead_width_cm</th>\n",
       "      <th>forehead_height_cm</th>\n",
       "      <th>nose_wide</th>\n",
       "      <th>nose_long</th>\n",
       "      <th>lips_thin</th>\n",
       "      <th>distance_nose_to_lip_long</th>\n",
       "      <th>gender</th>\n",
       "    </tr>\n",
       "  </thead>\n",
       "  <tbody>\n",
       "    <tr>\n",
       "      <th>0</th>\n",
       "      <td>1</td>\n",
       "      <td>11.8</td>\n",
       "      <td>6.1</td>\n",
       "      <td>1</td>\n",
       "      <td>0</td>\n",
       "      <td>1</td>\n",
       "      <td>1</td>\n",
       "      <td>1</td>\n",
       "    </tr>\n",
       "    <tr>\n",
       "      <th>1</th>\n",
       "      <td>0</td>\n",
       "      <td>14.0</td>\n",
       "      <td>5.4</td>\n",
       "      <td>0</td>\n",
       "      <td>0</td>\n",
       "      <td>1</td>\n",
       "      <td>0</td>\n",
       "      <td>0</td>\n",
       "    </tr>\n",
       "    <tr>\n",
       "      <th>2</th>\n",
       "      <td>0</td>\n",
       "      <td>11.8</td>\n",
       "      <td>6.3</td>\n",
       "      <td>1</td>\n",
       "      <td>1</td>\n",
       "      <td>1</td>\n",
       "      <td>1</td>\n",
       "      <td>1</td>\n",
       "    </tr>\n",
       "    <tr>\n",
       "      <th>3</th>\n",
       "      <td>0</td>\n",
       "      <td>14.4</td>\n",
       "      <td>6.1</td>\n",
       "      <td>0</td>\n",
       "      <td>1</td>\n",
       "      <td>1</td>\n",
       "      <td>1</td>\n",
       "      <td>1</td>\n",
       "    </tr>\n",
       "    <tr>\n",
       "      <th>4</th>\n",
       "      <td>1</td>\n",
       "      <td>13.5</td>\n",
       "      <td>5.9</td>\n",
       "      <td>0</td>\n",
       "      <td>0</td>\n",
       "      <td>0</td>\n",
       "      <td>0</td>\n",
       "      <td>0</td>\n",
       "    </tr>\n",
       "  </tbody>\n",
       "</table>\n",
       "</div>"
      ],
      "text/plain": [
       "   long_hair  forehead_width_cm  forehead_height_cm  nose_wide  nose_long  \\\n",
       "0          1               11.8                 6.1          1          0   \n",
       "1          0               14.0                 5.4          0          0   \n",
       "2          0               11.8                 6.3          1          1   \n",
       "3          0               14.4                 6.1          0          1   \n",
       "4          1               13.5                 5.9          0          0   \n",
       "\n",
       "   lips_thin  distance_nose_to_lip_long  gender  \n",
       "0          1                          1       1  \n",
       "1          1                          0       0  \n",
       "2          1                          1       1  \n",
       "3          1                          1       1  \n",
       "4          0                          0       0  "
      ]
     },
     "execution_count": 7,
     "metadata": {},
     "output_type": "execute_result"
    }
   ],
   "source": [
    "#Categorical to Numerical Data\n",
    "\n",
    "# Initialize the LabelEncoder\n",
    "label_encoder = LabelEncoder()\n",
    "\n",
    "# Apply label encoding to the 'City' column\n",
    "genclass['gender'] = label_encoder.fit_transform(genclass['gender'])\n",
    "\n",
    "# Show the encoded data\n",
    "genclass.head()"
   ]
  },
  {
   "cell_type": "code",
   "execution_count": 8,
   "id": "17500a3daaf66620",
   "metadata": {
    "ExecuteTime": {
     "end_time": "2025-01-09T02:20:55.634685Z",
     "start_time": "2025-01-09T02:20:55.624667Z"
    }
   },
   "outputs": [
    {
     "name": "stdout",
     "output_type": "stream",
     "text": [
      "<class 'pandas.core.frame.DataFrame'>\n",
      "RangeIndex: 5001 entries, 0 to 5000\n",
      "Data columns (total 8 columns):\n",
      " #   Column                     Non-Null Count  Dtype  \n",
      "---  ------                     --------------  -----  \n",
      " 0   long_hair                  5001 non-null   int64  \n",
      " 1   forehead_width_cm          5001 non-null   float64\n",
      " 2   forehead_height_cm         5001 non-null   float64\n",
      " 3   nose_wide                  5001 non-null   int64  \n",
      " 4   nose_long                  5001 non-null   int64  \n",
      " 5   lips_thin                  5001 non-null   int64  \n",
      " 6   distance_nose_to_lip_long  5001 non-null   int64  \n",
      " 7   gender                     5001 non-null   int64  \n",
      "dtypes: float64(2), int64(6)\n",
      "memory usage: 312.7 KB\n"
     ]
    }
   ],
   "source": [
    "genclass.info()\n",
    "# Splitting the data into features (X) and target (y)\n",
    "X = genclass.drop(['gender'], axis=1)\n",
    "y = genclass['gender']"
   ]
  },
  {
   "cell_type": "code",
   "execution_count": 9,
   "id": "aee9053340769b9a",
   "metadata": {
    "ExecuteTime": {
     "end_time": "2025-01-09T02:20:55.743044Z",
     "start_time": "2025-01-09T02:20:55.737621Z"
    }
   },
   "outputs": [],
   "source": [
    "# Splitting the dataset into train and test sets (80% train, 20% test)\n",
    "X_train, X_test, y_train, y_test = train_test_split(X, y, test_size=0.2, random_state=42)"
   ]
  },
  {
   "cell_type": "code",
   "execution_count": 10,
   "id": "ee0d8a4300a8b72d",
   "metadata": {
    "ExecuteTime": {
     "end_time": "2025-01-09T02:20:55.902873Z",
     "start_time": "2025-01-09T02:20:55.893332Z"
    }
   },
   "outputs": [],
   "source": [
    "# 1. Gaussian Naive Bayes\n",
    "gnb = GaussianNB()\n",
    "gnb.fit(X_train, y_train)\n",
    "\n",
    "# Make predictions with GaussianNB\n",
    "y_pred_gnb = gnb.predict(X_test)"
   ]
  },
  {
   "cell_type": "code",
   "execution_count": 11,
   "id": "ae6c6cffc88fcefa",
   "metadata": {
    "ExecuteTime": {
     "end_time": "2025-01-09T02:20:55.971273Z",
     "start_time": "2025-01-09T02:20:55.963504Z"
    }
   },
   "outputs": [],
   "source": [
    "# Scaling features for MultinomialNB (converts data to a range between 0 and 1)\n",
    "scaler = MinMaxScaler()\n",
    "X_train_scaled = scaler.fit_transform(X_train)\n",
    "X_test_scaled = scaler.transform(X_test)\n"
   ]
  },
  {
   "cell_type": "code",
   "execution_count": 12,
   "id": "437729f81bba6eb8",
   "metadata": {
    "ExecuteTime": {
     "end_time": "2025-01-09T02:20:55.993267Z",
     "start_time": "2025-01-09T02:20:55.985511Z"
    }
   },
   "outputs": [],
   "source": [
    "# 2. Multinomial Naive Bayes\n",
    "mnb = MultinomialNB()\n",
    "mnb.fit(X_train_scaled, y_train)\n",
    "\n",
    "# Make predictions with MultinomialNB\n",
    "y_pred_mnb = mnb.predict(X_test_scaled)"
   ]
  },
  {
   "cell_type": "code",
   "execution_count": 13,
   "id": "dbc55c2308ba59e1",
   "metadata": {
    "ExecuteTime": {
     "end_time": "2025-01-09T02:20:56.037400Z",
     "start_time": "2025-01-09T02:20:56.028175Z"
    }
   },
   "outputs": [],
   "source": [
    "# 3. Bernoulli Naive Bayes (binarize features)\n",
    "binarizer = Binarizer()\n",
    "X_train_bin = binarizer.fit_transform(X_train)  # Fit only on training data\n",
    "X_test_bin = binarizer.transform(X_test)"
   ]
  },
  {
   "cell_type": "code",
   "execution_count": 14,
   "id": "fa9889fb62aea59f",
   "metadata": {
    "ExecuteTime": {
     "end_time": "2025-01-09T02:20:56.062573Z",
     "start_time": "2025-01-09T02:20:56.055612Z"
    }
   },
   "outputs": [],
   "source": [
    "# 3. Bernoulli Naive Bayes\n",
    "bnb = BernoulliNB()\n",
    "bnb.fit(X_train_bin, y_train)\n",
    "\n",
    "# Make predictions with BernoulliNB\n",
    "y_pred_bnb = bnb.predict(X_test_bin)"
   ]
  },
  {
   "cell_type": "code",
   "execution_count": 15,
   "id": "5988d56a0c5b6c99",
   "metadata": {
    "ExecuteTime": {
     "end_time": "2025-01-09T02:20:56.119193Z",
     "start_time": "2025-01-09T02:20:56.108807Z"
    }
   },
   "outputs": [
    {
     "name": "stdout",
     "output_type": "stream",
     "text": [
      "GaussianNB Test Accuracy: 0.964035964035964\n",
      "MultinomialNB Test Accuracy: 0.9270729270729271\n",
      "BernoulliNB Test Accuracy: 0.957042957042957\n"
     ]
    }
   ],
   "source": [
    "#Print Accuracies\n",
    "print(\"GaussianNB Test Accuracy:\", gnb.score(X_test, y_test))\n",
    "print(\"MultinomialNB Test Accuracy:\", mnb.score(X_test_scaled, y_test))\n",
    "print(\"BernoulliNB Test Accuracy:\", bnb.score(X_test_bin, y_test))"
   ]
  },
  {
   "cell_type": "code",
   "execution_count": 16,
   "id": "2e33ae27d043015e",
   "metadata": {
    "ExecuteTime": {
     "end_time": "2025-01-09T02:20:56.174347Z",
     "start_time": "2025-01-09T02:20:56.144501Z"
    }
   },
   "outputs": [
    {
     "name": "stdout",
     "output_type": "stream",
     "text": [
      "Gaussian Naive Bayes\n",
      "Confusion Matrix:\n",
      "[[487  15]\n",
      " [ 21 478]]\n",
      "\n",
      "Classification Report:\n",
      "              precision    recall  f1-score   support\n",
      "\n",
      "           0       0.96      0.97      0.96       502\n",
      "           1       0.97      0.96      0.96       499\n",
      "\n",
      "    accuracy                           0.96      1001\n",
      "   macro avg       0.96      0.96      0.96      1001\n",
      "weighted avg       0.96      0.96      0.96      1001\n",
      "\n",
      "\n",
      "Multinomial Naive Bayes\n",
      "Confusion Matrix:\n",
      "[[432  70]\n",
      " [  3 496]]\n",
      "\n",
      "Classification Report:\n",
      "              precision    recall  f1-score   support\n",
      "\n",
      "           0       0.99      0.86      0.92       502\n",
      "           1       0.88      0.99      0.93       499\n",
      "\n",
      "    accuracy                           0.93      1001\n",
      "   macro avg       0.93      0.93      0.93      1001\n",
      "weighted avg       0.93      0.93      0.93      1001\n",
      "\n",
      "\n",
      "Bernoulli Naive Bayes\n",
      "Confusion Matrix:\n",
      "[[474  28]\n",
      " [ 15 484]]\n",
      "\n",
      "Classification Report:\n",
      "              precision    recall  f1-score   support\n",
      "\n",
      "           0       0.97      0.94      0.96       502\n",
      "           1       0.95      0.97      0.96       499\n",
      "\n",
      "    accuracy                           0.96      1001\n",
      "   macro avg       0.96      0.96      0.96      1001\n",
      "weighted avg       0.96      0.96      0.96      1001\n",
      "\n"
     ]
    }
   ],
   "source": [
    "#Classification Report For all the Naive Bayes Algos\n",
    "\n",
    "print(\"Gaussian Naive Bayes\")\n",
    "print(\"Confusion Matrix:\")\n",
    "print(confusion_matrix(y_test, y_pred_gnb))\n",
    "print(\"\\nClassification Report:\")\n",
    "print(classification_report(y_test, y_pred_gnb))\n",
    "\n",
    "\n",
    "print(\"\\nMultinomial Naive Bayes\")\n",
    "print(\"Confusion Matrix:\")\n",
    "print(confusion_matrix(y_test, y_pred_mnb))\n",
    "print(\"\\nClassification Report:\")\n",
    "print(classification_report(y_test, y_pred_mnb))\n",
    "\n",
    "\n",
    "print(\"\\nBernoulli Naive Bayes\")\n",
    "print(\"Confusion Matrix:\")\n",
    "print(confusion_matrix(y_test, y_pred_bnb))\n",
    "print(\"\\nClassification Report:\")\n",
    "print(classification_report(y_test, y_pred_bnb))"
   ]
  }
 ],
 "metadata": {
  "kernelspec": {
   "display_name": "Python 3 (ipykernel)",
   "language": "python",
   "name": "python3"
  },
  "language_info": {
   "codemirror_mode": {
    "name": "ipython",
    "version": 3
   },
   "file_extension": ".py",
   "mimetype": "text/x-python",
   "name": "python",
   "nbconvert_exporter": "python",
   "pygments_lexer": "ipython3",
   "version": "3.11.9"
  }
 },
 "nbformat": 4,
 "nbformat_minor": 5
}
